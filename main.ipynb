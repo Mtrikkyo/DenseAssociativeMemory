{
 "cells": [
  {
   "cell_type": "markdown",
   "metadata": {},
   "source": [
    "# Dense Associative Meomry"
   ]
  },
  {
   "cell_type": "markdown",
   "metadata": {},
   "source": [
    "Dense Associative Memory(DAM)はエネルギー関数\n",
    "$$E=-F(\\sigma_i\\xi_i^\\mu)$$\n",
    "\n",
    "で表される関数を減少させる方向に$\\sigma$を更新させていく．\n",
    "\n",
    "このとき，DAMを構成するユニットの状態更新則は以下のように表すことができる．\n",
    "$$\\sigma_i^{(t+1)}=\n",
    "g\\left[\n",
    "    \\sum_{\\mu}\\left(\n",
    "        F\\left(-\\sigma_i^{t}\\xi_i^\\mu+\\sum_{j\\ne i}\\sigma_j^{t}\\xi_j^\\mu\\right)\n",
    "        -F\\left(\\sigma_i^{t}\\xi_i^\\mu+\\sum_{j\\ne i}\\sigma_j^{t}\\xi_j^\\mu\\right)\n",
    "    \\right)\n",
    "\\right]$$\n",
    "\n",
    "このとき，$g(x)$は離散値を扱うDAMであれば$sign$関数，連続値を扱う場合には$\\tanh$関数を用いる．"
   ]
  },
  {
   "cell_type": "markdown",
   "metadata": {},
   "source": [
    "## 学習方法\n",
    "\n",
    "DAMの重み(上式の$\\xi^\\mu$)は以下の方法で求められる．\n",
    "\n",
    "1. Hebb則 \n",
    "2. 勾配降下法\n",
    "\n",
    "今回の実装では，勾配降下法を用いた学習方法を行う．"
   ]
  },
  {
   "attachments": {
    "image.png": {
     "image/png": "[encoded data removed]"
    }
   },
   "cell_type": "markdown",
   "metadata": {},
   "source": [
    "![image.png](attachment:image.png)"
   ]
  },
  {
   "cell_type": "code",
   "execution_count": 25,
   "metadata": {},
   "outputs": [],
   "source": [
    "import numpy as np\n",
    "import torch\n",
    "import torch.nn as nn\n",
    "import torch.optim as optim\n",
    "from tqdm import tqdm"
   ]
  },
  {
   "cell_type": "code",
   "execution_count": 26,
   "metadata": {},
   "outputs": [],
   "source": [
    "class DenseAssociativeMemoryClassification(nn.Module):\n",
    "    def __init__(\n",
    "        self,\n",
    "        input_dim: int,\n",
    "        n_class: int,\n",
    "        epoch: int,\n",
    "        random_state: False,\n",
    "    ) -> None:\n",
    "        super().__init__()\n",
    "\n",
    "        self.input_dim = input_dim\n",
    "        self.n_class = n_class\n",
    "\n",
    "        self.n_unit = self.input_dim + self.n_class\n",
    "\n",
    "        # initial state of nueron-unit\n",
    "        self.v_unit = torch.empty(size=(self.input_dim, 1))\n",
    "        self.x_unit = -torch.ones(size=(self.n_class, 1))\n",
    "\n",
    "        # initial state of weight matrix\n",
    "        self.weight = torch.randn(size=(self.n_unit, self.n_unit))\n",
    "\n",
    "    def train(\n",
    "        self,\n",
    "        train_loader,\n",
    "        n_epoch: int,\n",
    "        batch_zie: int,\n",
    "        optimizer: torch.optim = optim.SGD,\n",
    "        loss=nn.CrossEntropyLoss,\n",
    "        lr: float = 0.01,\n",
    "    ):\n",
    "\n",
    "        _loss=loss()\n",
    "        _optimizer=optimizer(self.weight,lr=lr)\n",
    "        \n",
    "\n",
    "        for p_epoch in tqdm(range(n_epoch)):\n",
    "            \n",
    "            # train\n",
    "            for data,label in train_loader:\n",
    "                \n",
    "\n",
    "            pass\n",
    "\n",
    "    def predict(self):\n",
    "        pass\n",
    "\n",
    "    def _update_state(self):\n",
    "        \n",
    "        torch.tanh(\n",
    "            \n",
    "        )\n",
    "        \n",
    "        pass"
   ]
  },
  {
   "cell_type": "code",
   "execution_count": null,
   "metadata": {},
   "outputs": [],
   "source": []
  },
  {
   "cell_type": "markdown",
   "metadata": {},
   "source": [
    "## データセット\n",
    "\n",
    "動作確認のため，とりあえずMNISTを引っ張ってくる．"
   ]
  },
  {
   "cell_type": "code",
   "execution_count": 40,
   "metadata": {},
   "outputs": [],
   "source": [
    "import torchvision\n",
    "import torchvision.transforms as transforms\n",
    "\n",
    "img_transform = transforms.Compose(\n",
    "    [\n",
    "        transforms.ToTensor(),\n",
    "        transforms.Lambda(lambda x: x.view(-1, 1)),# reshape to (784,1)\n",
    "        transforms.Lambda(lambda x: 2 * x - 1),# rescale to [-1,1]\n",
    "    ]\n",
    ")\n",
    "\n",
    "train_set = torchvision.datasets.MNIST(\n",
    "    root=\"data\",\n",
    "    train=True,\n",
    "    transform=img_transform,\n",
    "    download=True,\n",
    ")\n",
    "\n",
    "test_set = torchvision.datasets.MNIST(\n",
    "    root=\"data\",\n",
    "    train=False,\n",
    "    transform=img_transform,\n",
    "    download=True,\n",
    ")\n",
    "\n",
    "train_loader = torch.utils.data.DataLoader(\n",
    "    train_set,\n",
    "    batch_size=64,\n",
    "    shuffle=True,\n",
    ")\n",
    "\n",
    "test_loader = torch.utils.data.DataLoader(\n",
    "    train_set,\n",
    "    batch_size=64,\n",
    "    shuffle=True,\n",
    ")"
   ]
  },
  {
   "cell_type": "code",
   "execution_count": 41,
   "metadata": {},
   "outputs": [
    {
     "data": {
      "text/plain": [
       "tensor(-1.)"
      ]
     },
     "execution_count": 41,
     "metadata": {},
     "output_type": "execute_result"
    }
   ],
   "source": [
    "# import matplotlib.pyplot as plt\n",
    "# plt.imshow(train_set[0][0].reshape(28,28))\n",
    "train_set[0][0].min()"
   ]
  },
  {
   "cell_type": "code",
   "execution_count": 49,
   "metadata": {},
   "outputs": [
    {
     "name": "stdout",
     "output_type": "stream",
     "text": [
      "v_unit.shape=torch.Size([64, 784, 1])\n",
      "tensor(1.)\n",
      "tensor(1.)\n",
      "tensor(1.)\n",
      "tensor(1.)\n",
      "tensor(1.)\n",
      "tensor(1.)\n",
      "tensor(1.)\n",
      "tensor(1.)\n",
      "tensor(1.)\n",
      "tensor(1.)\n",
      "torch.Size([64, 794, 1])\n"
     ]
    }
   ],
   "source": [
    "for v_unit, label in train_loader:\n",
    "    print(f\"{v_unit.shape=}\")\n",
    "\n",
    "    for i in range(10):\n",
    "        Ux = -torch.ones(64, 10, 1)\n",
    "        Vx = -torch.ones(64, 10, 1)\n",
    "        Vx[:, i, :] *= -1\n",
    "\n",
    "        U = torch.concatenate([v_unit, Ux], axis=1)\n",
    "\n",
    "    print(f\"{U.shape}\")\n",
    "    break"
   ]
  },
  {
   "cell_type": "code",
   "execution_count": 46,
   "metadata": {},
   "outputs": [],
   "source": [
    "a=torch.ones(5,4,3)\n",
    "b="
   ]
  },
  {
   "cell_type": "code",
   "execution_count": null,
   "metadata": {},
   "outputs": [],
   "source": []
  }
 ],
 "metadata": {
  "kernelspec": {
   "display_name": ".venv",
   "language": "python",
   "name": "python3"
  },
  "language_info": {
   "codemirror_mode": {
    "name": "ipython",
    "version": 3
   },
   "file_extension": ".py",
   "mimetype": "text/x-python",
   "name": "python",
   "nbconvert_exporter": "python",
   "pygments_lexer": "ipython3",
   "version": "3.11.5"
  }
 },
 "nbformat": 4,
 "nbformat_minor": 2
}
